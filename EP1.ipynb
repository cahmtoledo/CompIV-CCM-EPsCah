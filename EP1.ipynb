{
  "nbformat": 4,
  "nbformat_minor": 0,
  "metadata": {
    "colab": {
      "name": "EP1.ipynb",
      "provenance": [],
      "include_colab_link": true
    },
    "kernelspec": {
      "name": "python3",
      "display_name": "Python 3"
    }
  },
  "cells": [
    {
      "cell_type": "markdown",
      "metadata": {
        "id": "view-in-github",
        "colab_type": "text"
      },
      "source": [
        "<a href=\"https://colab.research.google.com/github/cahmtoledo/RVWorks/blob/master/EP1.ipynb\" target=\"_parent\"><img src=\"https://colab.research.google.com/assets/colab-badge.svg\" alt=\"Open In Colab\"/></a>"
      ]
    },
    {
      "cell_type": "markdown",
      "metadata": {
        "id": "x12EikUAhaH6",
        "colab_type": "text"
      },
      "source": [
        "O Exercício abaixo é o 1D"
      ]
    },
    {
      "cell_type": "code",
      "metadata": {
        "id": "YAowg-wYw6fx",
        "colab_type": "code",
        "outputId": "41f94ee7-d2b7-4134-da28-09e1180cefbf",
        "colab": {
          "base_uri": "https://localhost:8080/",
          "height": 628
        }
      },
      "source": [
        "import numpy as np\n",
        "import matplotlib.pyplot as plt\n",
        "\n",
        "eps = 0.000000001\n",
        "\n",
        "\n",
        "def calculatepi (n, i):\n",
        "  return n[i][0]/n.sum()\n",
        "\n",
        "\n",
        "L = np.array([[0,0,0.02,0.37,0.67,0.73,0.78,0.68,0.53,0.17,0,0,0,0,0,0,0],\n",
        "              [0.73,0,0,0,0,0,0,0,0,0,0,0,0,0,0,0,0],\n",
        "              [0,0.88,0,0,0,0,0,0,0,0,0,0,0,0,0,0,0],\n",
        "              [0,0,0.95,0,0,0,0,0,0,0,0,0,0,0,0,0,0],\n",
        "              [0,0,0,0.97,0,0,0,0,0,0,0,0,0,0,0,0,0],\n",
        "              [0,0,0,0,0.94,0,0,0,0,0,0,0,0,0,0,0,0],\n",
        "              [0,0,0,0,0,0.98,0,0,0,0,0,0,0,0,0,0,0],\n",
        "              [0,0,0,0,0,0,0.93,0,0,0,0,0,0,0,0,0,0],\n",
        "              [0,0,0,0,0,0,0,0.99,0,0,0,0,0,0,0,0,0],\n",
        "              [0,0,0,0,0,0,0,0,0.93,0,0,0,0,0,0,0,0],\n",
        "              [0,0,0,0,0,0,0,0,0,0.9,0,0,0,0,0,0,0],\n",
        "              [0,0,0,0,0,0,0,0,0,0,0.95,0,0,0,0,0,0],\n",
        "              [0,0,0,0,0,0,0,0,0,0,0,0.87,0,0,0,0,0],\n",
        "              [0,0,0,0,0,0,0,0,0,0,0,0,0.81,0,0,0,0],\n",
        "              [0,0,0,0,0,0,0,0,0,0,0,0,0,0.89,0,0,0],\n",
        "              [0,0,0,0,0,0,0,0,0,0,0,0,0,0,0.55,0,0],\n",
        "              [0,0,0,0,0,0,0,0,0,0,0,0,0,0,0,0,0]])\n",
        "\n",
        "\n",
        "#Brute Force solution\n",
        "n0t= np.array([[1.0,0,0,0,0,0,0, 0,0,0,0,0,0,0,0,0,0]])\n",
        "\n",
        "n0=n0t.T\n",
        "\n",
        "n=np.dot(L,n0)\n",
        "\n",
        "while np.linalg.norm(n-n0)>eps:\n",
        "  n0=n\n",
        "  n=np.dot(L,n)\n",
        "  for j in range(17):\n",
        "    n[j]=calculatepi(n,j) \n",
        "\n",
        "\n",
        "\n",
        "pi= []\n",
        "for i in range(17):\n",
        "  pi.append(calculatepi(n,i))\n",
        "\n",
        "x= [0,5,10,15,20,25,30,35,40,45,50,55, 60,65,70,75,80]\n",
        "\n",
        "plt.title(\"pi de equilibrio da pop. Ache obtido por forca bruta\")\n",
        "plt.xlabel(\"Idade\")\n",
        "plt.ylabel(r\"$\\pi_{i}^{eq}}$\")\n",
        "plt.bar(x, pi,width=5.0, align = 'edge')\n",
        "plt.show()\n",
        "\n",
        "#Podemos usar o método descrito em 1C para calcular de forma \"esperta\"\n",
        "\n",
        "einval, einvec = np.linalg.eig(L)\n",
        "\n",
        "valD = np.argsort(-einval)[0]\n",
        "\n",
        "v=einvec[:,valD]\n",
        "v=v/np.sum(v)\n",
        "\n",
        "plt.title(\"pi de equilibrio da pop. Ache obtido por auto vetor dominante\")\n",
        "plt.xlabel(\"Idade\")\n",
        "plt.ylabel(r\"$\\pi_{i}^{eq}}$\")\n",
        "plt.bar(x, v,width=5.0, align = 'edge')\n",
        "plt.show()"
      ],
      "execution_count": 0,
      "outputs": [
        {
          "output_type": "display_data",
          "data": {
            "image/png": "[encoded data removed]",
            "text/plain": [
              "<Figure size 432x288 with 1 Axes>"
            ]
          },
          "metadata": {
            "tags": []
          }
        },
        {
          "output_type": "stream",
          "text": [
            "/usr/local/lib/python3.6/dist-packages/matplotlib/transforms.py:789: ComplexWarning: Casting complex values to real discards the imaginary part\n",
            "  points = np.array(args, dtype=float).reshape(2, 2)\n"
          ],
          "name": "stderr"
        },
        {
          "output_type": "display_data",
          "data": {
            "image/png": "[encoded data removed]",
            "text/plain": [
              "<Figure size 432x288 with 1 Axes>"
            ]
          },
          "metadata": {
            "tags": []
          }
        }
      ]
    },
    {
      "cell_type": "markdown",
      "metadata": {
        "id": "uUTcDYF-hhdx",
        "colab_type": "text"
      },
      "source": [
        "Autofaces letras: A, B, C, D, F, G, H, I, J, K"
      ]
    },
    {
      "cell_type": "code",
      "metadata": {
        "id": "mCkH1NpKhq1h",
        "colab_type": "code",
        "outputId": "05db2ac7-092b-4e36-a502-1ad3da41de2c",
        "colab": {
          "base_uri": "https://localhost:8080/",
          "height": 625
        }
      },
      "source": [
        "from PIL import Image\n",
        "import numpy\n",
        "from numpy import *\n",
        "\n",
        "# Desenvolva o algoritmo usando as imagens pequenas\n",
        "directory='/img-small/'\n",
        "WIDTH=25\n",
        "HEIGHT=30\n",
        "EPS = 0.00000005\n",
        "\n",
        "# As imagens grandes podem ser usadas para a versão final #directory=’img/’\n",
        "#WIDTH=50\n",
        "#HEIGHT=60\n",
        "\n",
        "labels=[ 'amber', 'amy', 'andrew', 'andy', 'erin', 'gabe', 'hill', 'jack', 'zach' ]\n",
        "\n",
        "def vector_from_image(file_name):\n",
        "  image_struct = Image.open(file_name).convert(\"L\")\n",
        "  image_data = copy(asarray(image_struct))\n",
        "  image_vector=[(float(image_data[i, j])) for i in range(HEIGHT) for j in range(WIDTH)]\n",
        "  return image_vector\n",
        "\n",
        "def image_from_vector(vector, file_name):\n",
        "  matrix=vector.reshape((HEIGHT, WIDTH))\n",
        "  result=empty((HEIGHT, WIDTH, 3), dtype=uint8)\n",
        "  result[:,:,0]=matrix\n",
        "  result[:,:,1]=matrix\n",
        "  result[:,:,2]=matrix\n",
        "  Image.fromarray(result).save(file_name)\n",
        "\n",
        "def load_images():\n",
        "  images_set=[]\n",
        "  for index in range(len(labels)):\n",
        "    file_name=directory+labels[index]+'1.png'\n",
        "    vec=vector_from_image(file_name)\n",
        "    images_set.append(vec)\n",
        "    file_name=directory+labels[index]+'2.png'\n",
        "    vec=vector_from_image(file_name)\n",
        "    images_set.append(vec)\n",
        "    file_name=directory+labels[index]+'3.png'\n",
        "    vec=vector_from_image(file_name)\n",
        "    images_set.append(vec)\n",
        "  return array(images_set)\n",
        "\n",
        "\n",
        "\n",
        "imagens = load_images()\n",
        "\n",
        "#Calculando o vetor medio B\n",
        "vetorMedio = mean(imagens, axis = 0)\n",
        "\n",
        "image_from_vector(vetorMedio, \"FaceMedia.png\")\n",
        "\n",
        "\n",
        "#print(shape(vetorMedio))\n",
        "\n",
        "\n",
        "#C\n",
        "imagensMenosMedia = array([i-vetorMedio for i in imagens]) #Vou usar o vetor médio invés da face média para diminuir os erros\n",
        "\n",
        "\n",
        "novoVetorMedio = mean(imagensMenosMedia, axis = 0)\n",
        "\n",
        "#print(abs(novoVetorMedio)<EPS) Isso mostra para gente que o novoVetorMedio é zero, levando em conta o erro\n",
        "\n",
        "#D\n",
        "\n",
        "#Matriz de covariância\n",
        "M = cov(imagensMenosMedia.T)\n",
        "\n",
        "print(M)\n",
        "\n",
        "#G\n",
        "\n",
        "#Autovalor e autovetor da matriz de covariância\n",
        "einval, einvec = linalg.eigh(M)\n",
        "#print(einval)\n",
        "\n",
        "\n",
        "#H\n",
        "\n",
        "Dval = argsort(-einval)\n",
        "\n",
        "\n",
        "soma = 0\n",
        "n=0\n",
        "\n",
        "while soma < 0.9*trace(M):\n",
        "  soma+=einval[Dval[n]]\n",
        "  n+=1\n",
        "\n",
        "\n",
        "print(n)\n",
        "\n",
        "#I\n",
        "#Produzindo autofaces (veja na pasta resultados)\n",
        "\n",
        "for i in range(n+1):\n",
        "  image_from_vector(einvec[Dval[i]]*255 + vetorMedio, \"autoface\" + str(i) +\".png\")\n",
        "\n",
        "\n",
        "#J\n",
        "\n",
        "#Decompondo a nova imagem em autovetores\n",
        "file_name = directory+'person1.png'\n",
        "person = vector_from_image(file_name)\n",
        "\n",
        "person = person-vetorMedio\n",
        "decomp = []\n",
        "vetorfinal = empty_like(vetorMedio)\n",
        "for i in range(n+1):\n",
        "  decomp.append(dot(person,einvec[Dval[i]])/linalg.norm(person))\n",
        "  #person-=decomp[i]*einvec[Dval[i]]\n",
        "  vetorfinal+=decomp[i]*einvec[Dval[i]]\n",
        "\n",
        "\n",
        "#K  \n",
        "\n",
        "image_from_vector(vetorfinal, \"finalSemMedia.png\")\n",
        "\n",
        "\n"
      ],
      "execution_count": 0,
      "outputs": [
        {
          "output_type": "stream",
          "text": [
            "[[6903.15669516 5507.2008547  3695.43019943 ... -398.17663818\n",
            "   740.16381766  702.6980057 ]\n",
            " [5507.2008547  5346.33333333 4377.90598291 ... -550.87606838\n",
            "   662.7991453   701.70940171]\n",
            " [3695.43019943 4377.90598291 4416.65242165 ... -405.32621083\n",
            "   716.04415954  554.70655271]\n",
            " ...\n",
            " [-398.17663818 -550.87606838 -405.32621083 ... 4381.72079772\n",
            "  4319.65099715 4151.10826211]\n",
            " [ 740.16381766  662.7991453   716.04415954 ... 4319.65099715\n",
            "  5349.9002849  5784.5968661 ]\n",
            " [ 702.6980057   701.70940171  554.70655271 ... 4151.10826211\n",
            "  5784.5968661  7847.24216524]]\n",
            "9\n"
          ],
          "name": "stdout"
        },
        {
          "output_type": "error",
          "ename": "FileNotFoundError",
          "evalue": "ignored",
          "traceback": [
            "\u001b[0;31m---------------------------------------------------------------------------\u001b[0m",
            "\u001b[0;31mFileNotFoundError\u001b[0m                         Traceback (most recent call last)",
            "\u001b[0;32m<ipython-input-12-29409bd17383>\u001b[0m in \u001b[0;36m<module>\u001b[0;34m()\u001b[0m\n\u001b[1;32m     94\u001b[0m \u001b[0;31m#Decompondo a nova imagem em autovetores\u001b[0m\u001b[0;34m\u001b[0m\u001b[0;34m\u001b[0m\u001b[0;34m\u001b[0m\u001b[0m\n\u001b[1;32m     95\u001b[0m \u001b[0mfile_name\u001b[0m \u001b[0;34m=\u001b[0m \u001b[0mdirectory\u001b[0m\u001b[0;34m+\u001b[0m\u001b[0;34m'person1.png'\u001b[0m\u001b[0;34m\u001b[0m\u001b[0;34m\u001b[0m\u001b[0m\n\u001b[0;32m---> 96\u001b[0;31m \u001b[0mperson\u001b[0m \u001b[0;34m=\u001b[0m \u001b[0mvector_from_image\u001b[0m\u001b[0;34m(\u001b[0m\u001b[0mfile_name\u001b[0m\u001b[0;34m)\u001b[0m\u001b[0;34m\u001b[0m\u001b[0;34m\u001b[0m\u001b[0m\n\u001b[0m\u001b[1;32m     97\u001b[0m \u001b[0;34m\u001b[0m\u001b[0m\n\u001b[1;32m     98\u001b[0m \u001b[0mperson\u001b[0m \u001b[0;34m=\u001b[0m \u001b[0mperson\u001b[0m\u001b[0;34m-\u001b[0m\u001b[0mvetorMedio\u001b[0m\u001b[0;34m\u001b[0m\u001b[0;34m\u001b[0m\u001b[0m\n",
            "\u001b[0;32m<ipython-input-12-29409bd17383>\u001b[0m in \u001b[0;36mvector_from_image\u001b[0;34m(file_name)\u001b[0m\n\u001b[1;32m     16\u001b[0m \u001b[0;34m\u001b[0m\u001b[0m\n\u001b[1;32m     17\u001b[0m \u001b[0;32mdef\u001b[0m \u001b[0mvector_from_image\u001b[0m\u001b[0;34m(\u001b[0m\u001b[0mfile_name\u001b[0m\u001b[0;34m)\u001b[0m\u001b[0;34m:\u001b[0m\u001b[0;34m\u001b[0m\u001b[0;34m\u001b[0m\u001b[0m\n\u001b[0;32m---> 18\u001b[0;31m   \u001b[0mimage_struct\u001b[0m \u001b[0;34m=\u001b[0m \u001b[0mImage\u001b[0m\u001b[0;34m.\u001b[0m\u001b[0mopen\u001b[0m\u001b[0;34m(\u001b[0m\u001b[0mfile_name\u001b[0m\u001b[0;34m)\u001b[0m\u001b[0;34m.\u001b[0m\u001b[0mconvert\u001b[0m\u001b[0;34m(\u001b[0m\u001b[0;34m\"L\"\u001b[0m\u001b[0;34m)\u001b[0m\u001b[0;34m\u001b[0m\u001b[0;34m\u001b[0m\u001b[0m\n\u001b[0m\u001b[1;32m     19\u001b[0m   \u001b[0mimage_data\u001b[0m \u001b[0;34m=\u001b[0m \u001b[0mcopy\u001b[0m\u001b[0;34m(\u001b[0m\u001b[0masarray\u001b[0m\u001b[0;34m(\u001b[0m\u001b[0mimage_struct\u001b[0m\u001b[0;34m)\u001b[0m\u001b[0;34m)\u001b[0m\u001b[0;34m\u001b[0m\u001b[0;34m\u001b[0m\u001b[0m\n\u001b[1;32m     20\u001b[0m   \u001b[0mimage_vector\u001b[0m\u001b[0;34m=\u001b[0m\u001b[0;34m[\u001b[0m\u001b[0;34m(\u001b[0m\u001b[0mfloat\u001b[0m\u001b[0;34m(\u001b[0m\u001b[0mimage_data\u001b[0m\u001b[0;34m[\u001b[0m\u001b[0mi\u001b[0m\u001b[0;34m,\u001b[0m \u001b[0mj\u001b[0m\u001b[0;34m]\u001b[0m\u001b[0;34m)\u001b[0m\u001b[0;34m)\u001b[0m \u001b[0;32mfor\u001b[0m \u001b[0mi\u001b[0m \u001b[0;32min\u001b[0m \u001b[0mrange\u001b[0m\u001b[0;34m(\u001b[0m\u001b[0mHEIGHT\u001b[0m\u001b[0;34m)\u001b[0m \u001b[0;32mfor\u001b[0m \u001b[0mj\u001b[0m \u001b[0;32min\u001b[0m \u001b[0mrange\u001b[0m\u001b[0;34m(\u001b[0m\u001b[0mWIDTH\u001b[0m\u001b[0;34m)\u001b[0m\u001b[0;34m]\u001b[0m\u001b[0;34m\u001b[0m\u001b[0;34m\u001b[0m\u001b[0m\n",
            "\u001b[0;32m/usr/local/lib/python3.6/dist-packages/PIL/Image.py\u001b[0m in \u001b[0;36mopen\u001b[0;34m(fp, mode)\u001b[0m\n\u001b[1;32m   2807\u001b[0m \u001b[0;34m\u001b[0m\u001b[0m\n\u001b[1;32m   2808\u001b[0m     \u001b[0;32mif\u001b[0m \u001b[0mfilename\u001b[0m\u001b[0;34m:\u001b[0m\u001b[0;34m\u001b[0m\u001b[0;34m\u001b[0m\u001b[0m\n\u001b[0;32m-> 2809\u001b[0;31m         \u001b[0mfp\u001b[0m \u001b[0;34m=\u001b[0m \u001b[0mbuiltins\u001b[0m\u001b[0;34m.\u001b[0m\u001b[0mopen\u001b[0m\u001b[0;34m(\u001b[0m\u001b[0mfilename\u001b[0m\u001b[0;34m,\u001b[0m \u001b[0;34m\"rb\"\u001b[0m\u001b[0;34m)\u001b[0m\u001b[0;34m\u001b[0m\u001b[0;34m\u001b[0m\u001b[0m\n\u001b[0m\u001b[1;32m   2810\u001b[0m         \u001b[0mexclusive_fp\u001b[0m \u001b[0;34m=\u001b[0m \u001b[0;32mTrue\u001b[0m\u001b[0;34m\u001b[0m\u001b[0;34m\u001b[0m\u001b[0m\n\u001b[1;32m   2811\u001b[0m \u001b[0;34m\u001b[0m\u001b[0m\n",
            "\u001b[0;31mFileNotFoundError\u001b[0m: [Errno 2] No such file or directory: '/img-small/person1.png'"
          ]
        }
      ]
    },
    {
      "cell_type": "markdown",
      "metadata": {
        "id": "AEpMlQb2vnew",
        "colab_type": "text"
      },
      "source": [
        "Autofaces letra: E, não consegui deixar em uma escala vizualizável"
      ]
    },
    {
      "cell_type": "markdown",
      "metadata": {
        "id": "XPcYBXk0IrvQ",
        "colab_type": "text"
      },
      "source": [
        "Code taken from github: https://github.com/HowDoIUseThis/GershgorinCircles/blob/master/EAprox.py"
      ]
    },
    {
      "cell_type": "code",
      "metadata": {
        "id": "vde4qbDIMxcA",
        "colab_type": "code",
        "outputId": "984d9740-b350-4571-a85f-31381594d5b7",
        "colab": {
          "base_uri": "https://localhost:8080/",
          "height": 350
        }
      },
      "source": [
        "from PIL import Image\n",
        "import numpy\n",
        "from numpy import *\n",
        "from math import fabs\n",
        "import matplotlib.pyplot as plt\n",
        "from numpy import linalg as LA\n",
        "\n",
        "# Desenvolva o algoritmo usando as imagens pequenas\n",
        "directory='/img-small/'\n",
        "WIDTH=25\n",
        "HEIGHT=30\n",
        "EPS = 0.00000005\n",
        "\n",
        "# As imagens grandes podem ser usadas para a versão final #directory=’img/’\n",
        "#WIDTH=50\n",
        "#HEIGHT=60\n",
        "\n",
        "labels=[ 'amber', 'amy', 'andrew', 'andy', 'erin', 'gabe', 'hill', 'jack', 'zach' ]\n",
        "\n",
        "def vector_from_image(file_name):\n",
        "  image_struct = Image.open(file_name).convert(\"L\")\n",
        "  image_data = copy(asarray(image_struct))\n",
        "  image_vector=[(float(image_data[i, j])) for i in range(HEIGHT) for j in range(WIDTH)]\n",
        "  return image_vector\n",
        "\n",
        "def image_from_vector(vector, file_name):\n",
        "  matrix=vector.reshape((HEIGHT, WIDTH))\n",
        "  result=empty((HEIGHT, WIDTH, 3), dtype=uint8)\n",
        "  result[:,:,0]=matrix\n",
        "  result[:,:,1]=matrix\n",
        "  result[:,:,2]=matrix\n",
        "  Image.fromarray(result).save(file_name)\n",
        "\n",
        "def load_images():\n",
        "  images_set=[]\n",
        "  for index in range(len(labels)):\n",
        "    file_name=directory+labels[index]+'1.png'\n",
        "    vec=vector_from_image(file_name)\n",
        "    images_set.append(vec)\n",
        "    file_name=directory+labels[index]+'2.png'\n",
        "    vec=vector_from_image(file_name)\n",
        "    images_set.append(vec)\n",
        "    file_name=directory+labels[index]+'3.png'\n",
        "    vec=vector_from_image(file_name)\n",
        "    images_set.append(vec)\n",
        "  return array(images_set)\n",
        "\n",
        "\n",
        "def GregsCircles(matrix):\n",
        "    if isSquare(matrix) != True:\n",
        "        print('Your input matrix is not square!')\n",
        "        return []\n",
        "    circles = []\n",
        "    for x in range(0,len(matrix)):\n",
        "        radius = 0\n",
        "        piv = matrix[x][x]\n",
        "        for y in range(0,len(matrix)):\n",
        "            if x != y:\n",
        "                radius += fabs(matrix[x][y])\n",
        "        circles.append([piv,radius])\n",
        "    return circles\n",
        "\n",
        "def plotCircles(circles):\n",
        "    index, radi = zip(*circles)\n",
        "    Xupper = max(index) + std(index)\n",
        "    Xlower = min(index) - std(index)\n",
        "    Ylimit = max(radi) +  std(index)\n",
        "    fig, ax = plt.subplots() \n",
        "    ax = plt.gca()\n",
        "    ax.cla()\n",
        "    ax.set_xlim((Xlower,Xupper))\n",
        "    ax.set_ylim((-Ylimit,Ylimit))\n",
        "    plt.xlabel('Real Axis')\n",
        "    plt.ylabel('Imaginary Axis')\n",
        "    plt.title('Gershgorin circles')\n",
        "    for x in range(0,len(circles)):\n",
        "        circ = plt.Circle((index[x],0), radius = radi[x])\n",
        "        ax.add_artist(circ)\n",
        "    ax.plot([Xlower,Xupper],[0,0],'k--')\n",
        "    ax.plot([0,0],[-Ylimit,Ylimit],'k--')\n",
        "    fig.savefig('plotcircles.png')\n",
        "    \n",
        "def isSquare(m):\n",
        "    cols = len(m)\n",
        "    for row in m:\n",
        "        if len(row) != cols:\n",
        "            return False\n",
        "    return True\n",
        "\n",
        "def main():\n",
        "    \n",
        "  imagens = load_images()\n",
        "\n",
        "  #Calculando o vetor medio B\n",
        "  vetorMedio = mean(imagens, axis = 0)\n",
        "\n",
        "  image_from_vector(vetorMedio, \"FaceMedia.png\")\n",
        "\n",
        "\n",
        "  #print(shape(vetorMedio))\n",
        "\n",
        "\n",
        "  #C\n",
        "  imagensMenosMedia = array([i-vetorMedio for i in imagens]) #Vou usar o vetor médio invés da face média para diminuir os erros\n",
        "\n",
        "\n",
        "  novoVetorMedio = mean(imagensMenosMedia, axis = 0)\n",
        "\n",
        "  #print(abs(novoVetorMedio)<EPS) Isso mostra para gente que o novoVetorMedio é zero, levando em conta o erro\n",
        "\n",
        "  #Matriz de covariância\n",
        "  M = cov(imagensMenosMedia.T)\n",
        "  print(shape(M))\n",
        "  temp = GregsCircles(M)\n",
        "  #test = array([[10,-1,0,1],[0.2,8,0.2,0.2],[1,1,2,1],[-1,-1,-1,-11]])\n",
        "  #temp = GregsCircles(test)\n",
        "  print(temp)\n",
        "  plotCircles(temp)\n",
        "\n",
        "if __name__ == '__main__':\n",
        "    main()"
      ],
      "execution_count": 0,
      "outputs": [
        {
          "output_type": "stream",
          "text": [
            "(750, 750)\n",
            "[[6903.156695156696, 1077924.91025641], [5346.333333333333, 989983.6709401712], [4416.652421652422, 821888.4729344723], [2926.361823361823, 627615.5128205128], [1521.3960113960115, 387308.6623931624], [997.2307692307693, 254103.53846153838], [1056.0968660968665, 248143.87891737893], [1483.4615384615383, 315777.78205128177], [1788.5641025641028, 380650.1025641026], [1814.0256410256413, 436485.94017093984], [1463.9344729344732, 415494.9002849002], [1114.678062678063, 347910.87321937346], [1398.8717948717951, 476677.8290598293], [1676.3076923076924, 563307.1538461545], [1815.0712250712252, 595494.1737891735], [1886.1225071225072, 589346.6851851841], [2377.1652421652425, 618930.6025641025], [3019.977207977208, 713887.5498575491], [3593.7179487179496, 818835.1196581193], [3654.333333333335, 854974.3803418807], [3730.8148148148157, 874156.2207977201], [3163.0199430199423, 790037.3618233607], [2054.564102564103, 579205.7606837612], [1669.6438746438741, 360106.79487179447], [3475.0256410256416, 429189.9700854696], [7007.487179487177, 1135190.329059828], [5026.814814814815, 991617.6809116815], [2818.968660968661, 684104.3005698004], [1010.0883190883188, 388415.3247863251], [425.7948717948719, 202909.26923076922], [331.0028490028492, 150052.6994301995], [368.73789173789186, 166836.6880341879], [573.5498575498576, 230200.61823361818], [950.2564102564105, 304241.6153846153], [1624.139601139601, 408984.5968660973], [1851.8660968660972, 443169.23646723665], [1726.6410256410256, 394948.85470085446], [1323.0113960113958, 397538.42165242205], [1682.8461538461536, 574933.1410256409], [2176.566951566951, 704216.6965811966], [2552.7293447293455, 729282.9729344727], [2262.5641025641025, 669052.2521367515], [2151.9487179487187, 648358.1623931621], [2302.6695156695164, 662665.4501424498], [1531.5925925925928, 556667.4515669508], [1219.4045584045587, 527517.1267806267], [1120.9857549857547, 514031.0299145299], [1515.0284900284903, 534853.9544159551], [1831.139601139601, 418581.1353276353], [1703.9943019943016, 297515.5470085469], [6012.660968660968, 1028136.7877492866], [3326.076923076922, 766039.0641025637], [1465.4216524216524, 486486.56837606843], [2038.3874643874644, 421121.98575498606], [3574.643874643875, 468716.42307692236], [3625.2564102564106, 448896.1025641025], [2377.4615384615386, 370141.6538461536], [1244.754985754986, 292179.90740740753], [923.3076923076924, 286117.1538461542], [1226.0797720797716, 333067.8917378918], [2214.746438746439, 463736.54985754983], [2986.532763532764, 554506.8262108265], [1778.678062678063, 373013.93447293434], [1767.5498575498584, 516173.733618234], [2432.333333333334, 704024.6923076926], [2627.25641025641, 736085.6837606846], [1789.336182336182, 601770.5698005694], [1875.062678062678, 557927.7564102564], [2263.000000000001, 464773.44871794886], [2810.7122507122513, 405801.03133903124], [2783.8746438746443, 422027.45014245], [1911.2592592592598, 372104.9216524219], [869.0199430199431, 259053.63390313403], [787.3361823361822, 225144.8703703704], [991.25641025641, 228235.91452991456], [5075.641025641026, 1030491.243589744], [2402.3333333333335, 742179.6623931627], [2165.3447293447302, 509190.85042735067], [3166.153846153846, 436833.94871794916], [3955.333333333334, 427401.7905982904], [4395.54131054131, 492476.9401709405], [3733.925925925926, 545065.4159544159], [2708.806267806268, 520669.62393162365], [2063.83190883191, 446039.8048433054], [1780.1225071225062, 376346.02991452994], [2394.0455840455843, 484464.4088319088], [2841.410256410257, 608147.0940170939], [1204.7464387464388, 290912.700854701], [1393.7378917378917, 408216.3233618232], [2687.464387464387, 672798.8119658128], [3363.0370370370383, 772118.6310541322], [2965.4643874643875, 673846.9829059823], [3029.6182336182337, 566953.1666666666], [3377.307692307691, 457536.78205128224], [3375.6410256410254, 434037.32051282056], [3108.6780626780633, 438875.9757834762], [2672.2250712250716, 449869.16666666674], [1596.5242165242166, 397800.9914529914], [645.8575498575499, 229864.35185185203], [496.1538461538462, 177955.78205128197], [4673.8148148148175, 1081090.2749287735], [2598.8575498575506, 711629.0555555557], [2065.096866096866, 409809.1296296291], [1420.3105413105413, 282130.49002849014], [1547.8917378917383, 254367.2150997151], [2240.096866096866, 389320.7521367514], [2068.025641025641, 468133.1025641028], [1835.153846153847, 423840.4102564098], [2195.9515669515667, 485893.853276353], [2306.3447293447293, 448239.8433048428], [2670.3789173789182, 551084.7165242167], [2257.2307692307695, 611808.4615384616], [736.5641025641027, 250003.87179487187], [1107.6951566951568, 318106.7108262104], [2964.7122507122513, 622151.532763533], [3781.8062678062674, 781122.5299145278], [3001.011396011395, 670728.9957264954], [1753.4814814814813, 489944.17806267855], [1471.2307692307693, 449518.9487179486], [2203.096866096866, 670259.0484330482], [2771.2763532763543, 768957.0982905983], [2367.4871794871797, 711224.952991454], [2014.8575498575492, 601504.1737891734], [1273.1025641025644, 446027.2735042734], [267.2678062678063, 123142.29059829068], [4969.002849002849, 1093245.1923076916], [2411.1737891737894, 673601.1894586888], [1059.002849002849, 364083.06125356123], [752.2421652421654, 286739.8660968662], [867.2678062678062, 350674.00997150975], [497.3333333333333, 143568.66666666683], [351.77207977207973, 89633.53133903122], [569.2564102564104, 170104.20512820504], [1883.8233618233617, 352714.55982905964], [2910.4131054131058, 524274.1609686609], [2853.3846153846157, 664655.5128205128], [2265.5641025641025, 680412.3547008554], [615.9601139601139, 293741.73361823405], [927.3846153846155, 293905.53846153885], [3114.344729344729, 639029.961538462], [3241.641025641026, 674596.3589743589], [2193.472934472935, 520521.6182336183], [1025.6951566951566, 363420.4515669516], [656.7948717948718, 258610.57264957268], [1387.6267806267808, 437816.41168091196], [1729.7378917378915, 522126.79914529895], [1648.8917378917383, 585750.8803418805], [1628.7635327635326, 601100.1524216528], [1353.9088319088319, 512608.3974358976], [495.3618233618235, 226112.05698005707], [5477.384615384618, 1113378.3461538465], [4248.242165242165, 934791.881766382], [3617.900284900285, 855473.3846153845], [2517.524216524217, 681620.6324786327], [1787.7948717948718, 552137.9059829058], [1603.025641025641, 421266.67094017094], [1150.6011396011397, 268938.51709401695], [1128.0769230769226, 304813.50000000006], [2239.1794871794873, 464863.15384615323], [2058.3333333333335, 540252.3717948721], [2195.025641025641, 691505.9017094006], [2063.25641025641, 703659.5940170939], [748.1794871794872, 353909.4743589747], [889.025641025641, 293143.2435897435], [2612.3076923076924, 625248.5000000002], [2329.3874643874647, 649225.2150997141], [2202.131054131054, 583338.3974358976], [1873.0256410256413, 420806.36324786337], [1341.6524216524217, 361062.7905982907], [815.7122507122507, 258045.28917378932], [552.0626780626781, 169996.13960113938], [639.4814814814814, 247771.78917378918], [775.7806267806268, 321393.1396011394], [1240.1566951566954, 435929.52136752114], [1334.5641025641028, 381274.47008546954], [4790.6923076923085, 1007199.589743589], [4568.977207977207, 1008817.6880341877], [4731.660968660968, 1091936.5612535626], [3416.9601139601145, 911573.58974359], [1785.225071225071, 601138.5170940164], [1213.5840455840457, 407722.3888888886], [1278.4871794871797, 360268.5256410255], [1930.9173789173794, 406730.4814814816], [1695.1794871794875, 377954.4188034188], [1442.0883190883194, 544641.8789173787], [2154.934472934473, 754004.7635327636], [1775.9487179487185, 654622.5897435906], [907.9601139601141, 381608.159544159], [841.8404558404558, 284023.9658119659], [2484.421652421652, 580666.5313390319], [1801.0968660968663, 561505.3475783477], [2279.7692307692305, 638354.6282051274], [2043.85754985755, 477253.75498575537], [1715.7948717948716, 416230.5811965812], [1496.4814814814822, 380235.76780626806], [1108.6267806267806, 322852.33475783473], [1058.2564102564104, 316633.5299145306], [1452.6410256410259, 354187.7649572654], [2031.6695156695164, 413438.93304843345], [2235.19943019943, 439089.4857549862], [3640.148148148148, 915556.8233618248], [2932.2079772079787, 896843.3732193724], [3303.190883190884, 959637.7079772081], [3164.2564102564106, 889667.2521367517], [2818.660968660969, 739586.3803418808], [2500.2849002849007, 601408.7150997156], [2195.6923076923076, 487052.3846153848], [1441.4871794871794, 409599.94871794834], [985.3276353276353, 467809.18518518563], [1837.025641025641, 682581.1239316248], [1759.3703703703698, 693909.0569800572], [1464.5641025641023, 585873.2350427344], [1054.1538461538462, 402173.2692307692], [738.1908831908831, 260383.51709401677], [2203.8717948717945, 541538.0726495725], [1817.0256410256413, 519667.77350427373], [1138.8233618233617, 493901.0940170945], [1372.3703703703707, 439667.87037037034], [2339.917378917379, 445872.86467236467], [2800.165242165242, 464855.00712250714], [2592.7464387464397, 448238.4515669517], [2125.5498575498573, 434506.1025641029], [1652.5413105413108, 384484.28774928726], [1474.179487179487, 350275.35897435877], [1182.105413105413, 331605.2735042736], [3128.481481481481, 865927.7222222217], [2123.729344729345, 759440.0099715103], [1636.0626780626783, 673889.9216524214], [1188.3333333333333, 571379.1410256414], [945.1139601139599, 489834.53988603986], [709.5584045584046, 388896.5641025638], [465.49002849002846, 286985.4202279203], [521.3447293447294, 321068.85042735003], [1431.4814814814818, 546001.5356125362], [2154.0256410256407, 701878.299145299], [1783.874643874644, 687526.103988604], [1417.062678062678, 562818.0968660967], [1207.4558404558404, 369596.54843304836], [849.5641025641027, 232397.0085470086], [1966.8062678062681, 489636.9643874647], [2104.883190883191, 560876.6994301996], [1349.9259259259259, 526816.2222222222], [771.02849002849, 388538.9245014245], [998.0, 295509.02564102557], [1411.0284900284903, 330480.21367521374], [1409.7891737891737, 331170.4914529916], [1325.2564102564106, 306818.13675213687], [972.7720797720799, 279481.57122507144], [934.5384615384615, 314501.0512820514], [937.6609686609686, 300544.22222222225], [2789.7179487179496, 849587.162393163], [1828.9230769230774, 702576.5897435896], [1221.4615384615386, 577878.307692308], [729.0113960113958, 445941.35042735015], [400.53276353276357, 312566.67663817655], [283.7692307692308, 226156.1923076922], [385.71794871794873, 218221.1196581198], [767.2165242165241, 319360.55128205125], [1579.846153846154, 540710.3076923073], [2792.3333333333335, 778778.6324786327], [2782.7179487179483, 791408.226495726], [2846.7720797720804, 698410.6153846158], [2094.9230769230776, 481686.07692307694], [1399.5840455840455, 292414.1723646724], [2385.9173789173788, 491082.97720797674], [2866.002849002849, 643129.5925925932], [2757.1908831908827, 708901.2692307694], [1785.985754985755, 577886.608262109], [893.7179487179487, 391129.4871794875], [663.9601139601139, 301772.5213675211], [700.6609686609687, 289735.29772079794], [816.3105413105413, 310806.96866096836], [923.6096866096867, 337316.5113960112], [973.4102564102562, 353835.1794871797], [889.4472934472933, 318327.26353276323], [2874.8148148148152, 874072.742165242], [1822.5641025641025, 702597.4188034189], [1030.5754985754988, 522211.2478632474], [500.4871794871795, 343294.25641025667], [386.4558404558405, 203729.12962962958], [665.2564102564102, 183647.6581196581], [919.1652421652424, 226345.43304843313], [1138.8717948717947, 259494.84615384598], [2252.0541310541316, 555183.2564102566], [4125.256410256411, 846021.4871794877], [5012.507122507122, 865328.3632478637], [4845.541310541311, 758130.7792022795], [3496.6438746438744, 550115.3945868938], [3008.319088319088, 509934.4544159548], [3690.6267806267806, 622215.5968660966], [3746.0626780626785, 665762.195156696], [4315.797720797721, 843318.7279202269], [4449.179487179487, 893153.3290598299], [2637.994301994302, 653721.0284900292], [1085.4131054131053, 466014.0071225069], [818.8490028490029, 410869.23789173784], [869.5925925925926, 410703.16381766374], [1047.6438746438746, 413584.7094017088], [1110.3618233618233, 423418.1752136753], [927.0, 365729.80769230745], [2955.3361823361824, 884856.1153846155], [1772.9772079772076, 686323.7977207974], [819.4814814814815, 442379.65527065576], [507.72079772079775, 244254.08689458683], [775.3361823361823, 173917.11823361818], [1060.3333333333335, 254900.61111111127], [1396.871794871795, 334770.89743589755], [2127.900284900284, 342997.52136752143], [2608.461538461539, 573768.858974359], [4919.216524216525, 784150.6837606835], [4903.284900284901, 731146.6723646718], [4245.019943019944, 614909.2977207969], [3553.2165242165247, 526516.4444444443], [4620.883190883191, 660553.6054131053], [6138.179487179486, 793226.0683760685], [4893.02849002849, 740969.3205128206], [3995.6182336182333, 824913.8660968643], [5061.267806267806, 1018326.2948717955], [3579.2849002849, 787176.1310541312], [1745.2250712250716, 588353.0470085473], [1200.3076923076924, 535336.3076923084], [1084.948717948718, 517592.08547008556], [1240.2307692307695, 523795.9487179486], [1436.076923076923, 531460.6410256409], [1276.5071225071224, 467881.48575498594], [2874.789173789174, 868898.2279202279], [1544.6524216524213, 629944.9501424509], [681.3874643874642, 357685.5498575498], [698.6096866096866, 179466.78347578368], [990.8148148148148, 220492.78347578336], [1496.6524216524217, 400277.40170940215], [2315.5641025641025, 456310.39316239365], [2699.3190883190887, 465907.88034188], [3189.9487179487182, 643321.722222222], [3180.923076923077, 537536.628205128], [3595.4985754985755, 517333.2920227922], [3252.9487179487182, 475620.3547008549], [2855.917378917379, 374879.2834757833], [3433.2336182336185, 512934.4772079771], [4653.256410256411, 672088.7478632494], [4694.71794871795, 722028.9658119647], [4329.549857549858, 931523.1980056978], [4197.310541310542, 1008317.1125356139], [3051.0968660968665, 786797.0156695158], [2777.948717948718, 686625.4102564099], [1939.000000000001, 639279.8461538466], [1540.4985754985755, 619471.0170940167], [1539.794871794872, 620935.2393162389], [1611.5071225071222, 617083.7094017095], [1482.994301994302, 544757.6880341879], [2694.840455840457, 835564.8860398851], [1341.3960113960115, 567714.6780626776], [720.6923076923076, 274427.3333333335], [898.5242165242167, 175180.22507122488], [1308.1310541310545, 307452.61680911697], [2293.4814814814818, 467221.19800569775], [2016.6609686609686, 401571.80484330497], [2434.840455840456, 536315.5840455833], [3723.102564102565, 833411.4316239317], [3822.8831908831917, 755750.8091168092], [2839.0370370370374, 580995.8361823361], [2044.814814814815, 436658.4458689457], [1655.4216524216529, 311322.75498575537], [1534.703703703704, 353091.28774928756], [1911.4871794871801, 479833.97863247886], [2705.2250712250707, 645690.2407407404], [3466.5584045584055, 818209.7122507123], [2917.153846153846, 844528.6410256414], [3180.0284900284905, 761063.9074074073], [2888.5498575498577, 719667.1339031344], [2629.105413105413, 708692.4045584049], [2171.071225071226, 706598.9245014236], [1897.5498575498573, 704204.3675213681], [1759.6410256410256, 680331.1111111105], [1543.948717948718, 597263.4401709402], [2599.6153846153848, 818628.3846153852], [1239.9515669515672, 519958.887464388], [798.088319088319, 226603.76210826222], [975.4814814814818, 207961.55413105423], [1937.5584045584044, 372918.78917378886], [2103.4472934472933, 377079.01566951576], [1593.5669515669517, 371085.6552706552], [1528.789173789174, 509666.70655270707], [2256.498575498576, 738541.2934472926], [3296.225071225071, 856975.0099715097], [2955.3447293447302, 637253.327635327], [2351.102564102564, 443496.824786325], [2084.7122507122504, 360864.78062678035], [2592.7692307692314, 522135.6666666666], [2825.256410256411, 638578.8846153847], [2939.3447293447293, 610482.3148148147], [2302.6524216524217, 537703.8732193735], [2063.7378917378915, 577960.8418803412], [2605.0256410256416, 616358.2777777767], [2560.6267806267806, 692415.7136752135], [2804.2763532763533, 749455.2122507135], [2777.7948717948725, 775313.1367521362], [2362.333333333334, 768147.551282052], [1979.5584045584042, 725806.0840455837], [1534.8319088319088, 608616.2321937326], [2704.6153846153848, 840622.3589743588], [1241.0797720797723, 523041.42165242095], [832.4643874643876, 249659.22792022777], [1084.4871794871797, 221029.99145299126], [1893.8148148148148, 298200.22222222225], [1720.4558404558406, 289107.61823361844], [1839.4871794871797, 432097.6837606839], [1762.327635327636, 487065.9188034186], [1900.4387464387466, 583505.6153846147], [2967.02564102564, 702180.2350427344], [2746.6182336182337, 533832.3190883194], [2514.9943019943025, 411693.3162393162], [2338.840455840456, 421401.0356125356], [2783.3333333333326, 544996.461538462], [2931.549857549857, 596134.7877492879], [2689.3960113960115, 539528.9088319087], [2043.1994301994303, 504225.04131054104], [2010.729344729345, 603096.5527065522], [2190.464387464387, 548113.5284900286], [2729.0256410256416, 639984.2820512819], [2756.3019943019945, 744700.4002849001], [2705.846153846154, 772837.4230769227], [2479.438746438746, 769806.1410256402], [2012.9487179487182, 706371.2222222228], [1457.9344729344732, 581265.7122507122], [2918.4102564102573, 872929.6538461528], [1465.6524216524217, 594077.8333333326], [937.4045584045584, 349534.1424501426], [1218.871794871795, 248394.1367521367], [1513.994301994302, 214581.94586894554], [1878.4387464387469, 269058.650997151], [2677.948717948718, 384715.1153846155], [2988.1794871794878, 397965.64102564106], [2939.5584045584046, 440211.74216524226], [3257.900284900284, 582444.0128205125], [3300.0883190883196, 584890.4658119661], [2313.4729344729344, 436287.7079772078], [1603.7977207977208, 286433.2663817662], [1516.4900284900286, 264627.3917378916], [1552.917378917379, 359016.774928775], [2227.3846153846157, 562234.3846153844], [2810.9088319088323, 737873.1524216533], [3260.541310541311, 836792.4800569806], [2916.8490028490037, 755887.0740740742], [2835.344729344729, 642608.7435897434], [2963.4615384615386, 733591.7307692313], [2498.769230769231, 754360.307692307], [2141.1794871794878, 702538.7222222219], [1665.076923076923, 624194.4230769234], [1108.7948717948718, 469234.5341880337], [2859.7179487179487, 835009.1923076925], [1725.5925925925928, 662395.1125356128], [1197.0256410256407, 474730.0854700859], [1198.6353276353277, 301582.4971509968], [1386.2592592592596, 179274.1139601138], [2250.871794871795, 246322.08119658125], [2996.532763532763, 333954.40740740707], [2589.088319088319, 378141.2564102565], [2333.9487179487182, 378161.7820512818], [1973.333333333333, 297916.30769230775], [1858.250712250712, 257628.4330484332], [1723.3276353276353, 260463.95441595442], [1719.9686609686607, 204822.7079772079], [1785.4643874643873, 253106.52136752123], [1985.8917378917379, 417085.77777777746], [2884.846153846153, 638764.8974358968], [3788.1566951566965, 771047.9373219385], [3917.925925925926, 817846.8148148144], [3504.276353276353, 886753.0626780627], [2975.9515669515677, 770354.0811965818], [3109.641025641025, 719360.26923077], [2474.3105413105413, 700678.4544159548], [1534.618233618234, 578722.098290598], [1121.754985754986, 502043.425925926], [742.7977207977209, 301894.53703703696], [2704.5071225071233, 753310.3447293442], [1719.5498575498584, 670750.8148148144], [1137.4102564102564, 510073.3589743595], [1072.4301994301995, 373569.14814814826], [1437.7891737891741, 259360.7393162392], [1883.2507122507122, 283788.07549857546], [1674.8404558404563, 218481.05128205134], [1630.6695156695157, 254326.1324786323], [1956.6609686609686, 308757.6809116814], [2436.7293447293446, 348641.26923076937], [2300.51566951567, 373578.7678062676], [2231.333333333333, 348776.2393162394], [2327.7293447293455, 437222.24928774947], [2592.6353276353275, 549112.0826210827], [2539.5071225071224, 567590.5655270659], [3409.472934472934, 641838.2165242165], [4858.481481481482, 693943.3717948723], [5166.769230769231, 848216.974358974], [4658.566951566951, 966926.5441595443], [3810.9259259259265, 839741.9259259267], [2993.840455840456, 694802.2749287745], [1986.9772079772083, 595343.1324786321], [1156.6153846153848, 487272.3076923076], [724.4102564102565, 408149.6923076924], [816.7720797720798, 201461.87891737904], [2321.641025641026, 633251.7564102571], [1638.1025641025642, 611780.3247863248], [1153.079772079772, 524904.8774928775], [944.5641025641028, 400921.37179487187], [1204.4045584045584, 340199.81339031295], [1867.0769230769238, 440973.7179487178], [2291.4814814814818, 484009.9301994301], [2366.9088319088323, 471263.3091168094], [1791.7179487179485, 399530.51709401736], [1386.2336182336185, 442145.6666666665], [1391.173789173789, 474757.6851851854], [1413.5584045584046, 398645.2564102557], [1588.8575498575503, 297111.0925925926], [1691.4045584045584, 317239.2450142451], [1877.3076923076924, 400179.987179487], [2368.4871794871797, 515380.9059829063], [2405.25641025641, 561541.7136752141], [2554.564102564103, 688633.8205128196], [2365.5498575498577, 674009.1680911682], [2618.908831908833, 652715.4529914528], [2409.5641025641035, 625521.4957264963], [1651.8319088319092, 547642.0099715102], [1065.3333333333335, 477027.54273504287], [719.9515669515671, 388452.99430199474], [1614.4871794871801, 321773.45299145306], [2823.4729344729344, 716116.2991452982], [1951.3874643874647, 680055.0042735033], [1187.4900284900286, 547991.4131054131], [970.333333333333, 417665.36324786337], [1208.1823361823365, 396949.0997150998], [1634.3703703703698, 486757.20655270625], [1847.3333333333333, 579755.7222222225], [1631.2250712250716, 614470.8091168087], [1278.5641025641028, 502398.91452991444], [972.1139601139602, 362123.5455840459], [848.9173789173788, 254351.4985754985], [659.1737891737894, 132850.4615384615], [707.7948717948716, 187385.7094017094], [1044.071225071225, 368413.3091168094], [1586.3703703703704, 532927.455840456], [1997.0028490028487, 588247.8960113963], [2015.4729344729342, 583325.9245014248], [1914.8404558404557, 566004.3817663816], [1836.1054131054132, 514857.45014245], [1968.8404558404557, 567476.9188034185], [2088.464387464388, 632434.1381766383], [1693.3333333333333, 584042.7350427349], [1181.267806267806, 528217.6011396012], [841.5641025641025, 341835.39743589703], [2612.4615384615386, 512079.11538461543], [4625.866096866097, 867922.1723646718], [2749.1025641025644, 811132.1965811964], [1694.4871794871794, 651796.2393162393], [1221.7806267806266, 488974.2977207985], [1623.1652421652423, 478945.5968660972], [1679.9344729344728, 511721.2549857555], [1749.4985754985753, 563326.9216524216], [1609.8717948717947, 576765.111111111], [1297.2678062678065, 471723.35897435906], [1301.4985754985753, 386998.8945868944], [1201.7977207977208, 326045.4643874645], [1031.2564102564102, 301157.4829059828], [1181.4985754985757, 392948.21509971493], [1491.2849002849005, 492830.3575498576], [1765.3105413105416, 589347.7663817664], [2074.0000000000005, 688063.025641026], [2664.5327635327644, 782134.944444444], [2823.02564102564, 786517.3888888884], [2597.62678062678, 707159.9586894593], [2634.410256410257, 671990.1452991455], [2430.48717948718, 699981.8632478629], [1900.7179487179487, 635502.9700854699], [1328.344729344729, 499834.6880341875], [1494.3019943019945, 305072.5982905982], [2788.096866096866, 571258.8347578347], [6007.256410256409, 962460.4743589743], [3762.3076923076924, 819768.7948717948], [2402.3447293447293, 754320.2863247858], [1693.0455840455843, 590155.2307692313], [2112.8062678062684, 576278.6880341884], [2431.0968660968665, 610623.6937321931], [1902.6153846153852, 565037.1538461545], [1325.5242165242166, 471364.3931623936], [1056.4871794871792, 370835.7777777783], [1152.960113960114, 323397.92592592596], [1451.4615384615383, 394276.75641025667], [1941.4102564102568, 507684.2692307694], [2491.780626780627, 616413.485754985], [2546.641025641027, 636808.9358974363], [2594.410256410257, 682419.918803418], [2638.361823361823, 742825.2065527063], [2761.3846153846157, 783873.3846153853], [2740.538461538462, 783761.8076923076], [2548.4301994301995, 739521.948717949], [2432.763532763532, 676632.5085470096], [2675.011396011396, 707615.6695156696], [1809.948717948718, 611312.8418803423], [1742.4131054131053, 390270.4957264954], [2811.3447293447293, 439845.22222222196], [4547.361823361824, 722540.6381766376], [7051.660968660968, 1076825.6894586894], [4798.515669515669, 865660.0256410268], [3041.139601139601, 750063.6396011394], [2020.9943019943028, 645246.0797720802], [2378.3019943019945, 628127.0854700857], [3100.908831908833, 681041.6353276356], [2221.7635327635326, 585949.9871794874], [1129.3105413105416, 400000.76210826205], [779.0541310541314, 297778.91310541343], [760.4301994301995, 247649.83618233624], [1238.5384615384617, 334357.9358974356], [2066.4643874643875, 503585.8660968662], [2860.9002849002854, 641943.6452991454], [2834.717948717948, 656388.6794871789], [2773.333333333333, 678709.7649572646], [2492.410256410257, 703337.0940170941], [2233.7293447293446, 705263.7022792022], [2124.823361823361, 694573.2450142454], [2068.2564102564106, 653091.3290598292], [2246.917378917379, 638343.3931623937], [2257.025641025642, 634993.7649572653], [1448.5413105413104, 447024.6509971504], [2068.7179487179487, 340988.5726495726], [3187.062678062677, 546138.8304843301], [5994.601139601139, 844216.9330484319], [8210.396011396013, 1193636.931623932], [5221.139601139603, 931645.5128205137], [3564.242165242165, 770304.8846153842], [2064.68660968661, 604420.0227920229], [2345.6153846153848, 612630.9999999998], [3418.871794871796, 708374.0299145303], [3081.410256410257, 670260.7435897435], [1832.7179487179487, 514655.175213675], [1169.025641025641, 396140.45726495725], [866.5584045584048, 318855.6068376068], [1026.3333333333333, 338542.4358974359], [1579.923076923077, 446466.2307692304], [2087.794871794872, 566581.4316239315], [2444.769230769231, 654744.9871794869], [2625.6866096866106, 720559.1709401706], [2318.1225071225067, 702778.8490028483], [1955.1025641025647, 662828.2564102563], [1762.6353276353277, 624142.3789173777], [2116.1652421652425, 634215.803418803], [2306.387464387464, 637004.6965811965], [1616.1139601139603, 525161.0014245018], [1320.2336182336182, 321318.71652421675], [2129.190883190883, 389221.83618233626], [3987.0256410256416, 643043.3675213674], [7021.4871794871815, 896416.012820513], [8982.934472934476, 1276555.6780626788], [5842.14814814815, 1035221.8632478631], [3716.695156695157, 801923.3148148158], [2121.2849002849002, 597027.3660968665], [1969.2507122507122, 536815.3276353272], [2955.6353276353275, 656195.5797720803], [3943.5584045584055, 749141.411680912], [3095.9487179487173, 657254.8846153851], [2210.720797720798, 540507.2421652419], [1990.0000000000005, 493883.46153846174], [2310.8717948717954, 510684.957264957], [2193.207977207977, 504204.8931623937], [2003.8746438746439, 560180.3931623932], [2415.4558404558406, 671550.2094017096], [2876.4985754985764, 771271.9344729348], [2516.9943019943025, 733504.9999999999], [2375.173789173789, 693077.688034188], [2340.8717948717954, 663229.465811966], [2478.1310541310545, 671781.9287749287], [2001.1538461538462, 592528.8846153847], [1243.7948717948718, 438757.88034188014], [1119.076923076923, 235472.96153846182], [2866.173789173789, 491757.712250712], [4849.524216524216, 710823.2250712247], [8195.216524216527, 946268.1196581197], [9525.823361823364, 1315204.636752136], [6836.000000000002, 1137490.6794871804], [3720.8461538461547, 833903.3846153833], [2365.0797720797723, 642900.6082621083], [1986.4871794871792, 535820.6025641025], [2304.190883190883, 546617.8418803423], [3571.3105413105413, 698084.7991452983], [3784.7948717948716, 713782.7179487175], [3240.156695156695, 646523.2193732198], [3422.564102564103, 644526.7991452992], [3770.2507122507127, 657045.8945868944], [2923.9999999999995, 574507.2435897437], [2219.2307692307695, 566815.6923076926], [2470.9088319088323, 672013.4886039892], [2915.840455840456, 750799.3376068382], [2993.994301994302, 758994.9814814822], [2936.9515669515677, 748476.9373219383], [2860.6524216524226, 723279.7321937323], [2499.717948717949, 660147.4700854692], [1575.4814814814813, 487343.91310541285], [754.8660968660969, 259825.52136752123], [1448.3618233618236, 297488.0740740741], [3494.6011396011395, 544350.7891737892], [5414.643874643877, 744945.4800569796], [8194.410256410256, 945653.2393162397], [9545.156695156698, 1312202.9017094], [7529.025641025641, 1196793.1196581176], [4055.923076923077, 894801.4615384617], [2419.122507122507, 702614.0256410255], [2384.1139601139603, 597897.6396011398], [2010.615384615385, 516404.65384615405], [2475.105413105413, 542113.9686609692], [3206.703703703704, 642030.574074074], [3151.720797720798, 626125.7920227924], [3302.7635327635335, 629864.7535612545], [3281.9344729344734, 628016.0868945863], [2916.0370370370365, 582341.2051282055], [2242.455840455841, 545025.4458689465], [2230.6695156695155, 595714.7378917385], [2916.404558404559, 725302.0940170933], [3170.692307692308, 779088.0384615384], [2999.037037037038, 772754.4928774933], [2457.4102564102564, 691085.7222222228], [1614.6410256410256, 501281.752136753], [809.8660968660972, 269948.603988604], [439.3960113960114, 141223.5626780625], [1964.319088319088, 351079.64814814803], [4212.08831908832, 600259.0398860405], [5549.846153846155, 749257.4358974358], [7957.0455840455825, 919435.3504273511], [9383.994301994302, 1307821.3675213663], [7568.566951566954, 1205729.1552706566], [4729.461538461537, 976302.7051282055], [2527.7179487179483, 740225.4316239314], [2298.5669515669515, 627933.3447293453], [1953.153846153846, 537733.4615384619], [1761.3703703703707, 455505.9886039889], [2108.498575498576, 496334.10968660977], [2757.1310541310545, 573263.3532763524], [2914.7948717948716, 580283.1153846157], [2917.4871794871797, 597939.1837606842], [2822.6695156695155, 584781.9914529907], [2300.2336182336185, 532438.5099715096], [2363.635327635328, 564531.9800569802], [3140.267806267807, 720932.7521367513], [3008.4814814814827, 775612.6780626776], [2298.737891737892, 707094.5840455842], [1253.4985754985755, 489171.27492877527], [531.1225071225073, 234150.24643874643], [274.2564102564102, 139650.26495726497], [374.42165242165237, 137936.39886039894], [2467.6096866096873, 391471.25071225065], [4381.720797720797, 629210.0170940178], [5349.9002849002845, 737435.9572649569], [7847.242165242166, 898291.9829059831]]\n"
          ],
          "name": "stdout"
        },
        {
          "output_type": "display_data",
          "data": {
            "image/png": "[encoded data removed]",
            "text/plain": [
              "<Figure size 432x288 with 1 Axes>"
            ]
          },
          "metadata": {
            "tags": []
          }
        }
      ]
    },
    {
      "cell_type": "markdown",
      "metadata": {
        "id": "Av7vcs_xJiEh",
        "colab_type": "text"
      },
      "source": [
        "# New Section"
      ]
    },
    {
      "cell_type": "markdown",
      "metadata": {
        "id": "CzoD-m_bgAgJ",
        "colab_type": "text"
      },
      "source": [
        "# New Section"
      ]
    }
  ]
}